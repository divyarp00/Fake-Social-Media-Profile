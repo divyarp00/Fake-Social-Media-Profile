{
 "cells": [
  {
   "cell_type": "code",
   "execution_count": 62,
   "metadata": {},
   "outputs": [],
   "source": [
    "import pandas as pd\n",
    "import numpy as np\n",
    "from sklearn.model_selection import train_test_split\n",
    "from sklearn.metrics import confusion_matrix\n",
    "import matplotlib.pyplot as plt\n",
    "%matplotlib inline"
   ]
  },
  {
   "cell_type": "code",
   "execution_count": 63,
   "metadata": {},
   "outputs": [],
   "source": [
    "# Loading Data\n",
    "data = dict()\n",
    "data[\"fake\"]  = pd.read_csv(\"fusers.csv\")\n",
    "data[\"legit\"] = pd.read_csv(\"users.csv\")"
   ]
  },
  {
   "cell_type": "code",
   "execution_count": 64,
   "metadata": {},
   "outputs": [],
   "source": [
    "# Removing unnecessary columns\n",
    "data[\"legit\"] = data[\"legit\"].drop([ \"id\",\"name\", \"screen_name\", \"created_at\", \"lang\", \"location\", \"default_profile\", \"default_profile_image\", \"geo_enabled\", \"profile_image_url\", \"profile_banner_url\", \"profile_use_background_image\", \"profile_background_image_url_https\", \"profile_text_color\", \"profile_image_url_https\", \"profile_sidebar_border_color\", \"profile_background_tile\", \"profile_sidebar_fill_color\", \"profile_background_image_url\", \"profile_background_color\", \"profile_link_color\", \"utc_offset\", \"protected\", \"verified\", \"dataset\", \"updated\", \"description\"], axis=1)\n",
    "data[\"fake\"]  = data[\"fake\"].drop([\"id\",\"name\", \"screen_name\", \"created_at\", \"lang\", \"location\", \"default_profile\", \"default_profile_image\", \"geo_enabled\", \"profile_image_url\", \"profile_banner_url\", \"profile_use_background_image\", \"profile_background_image_url_https\", \"profile_text_color\", \"profile_image_url_https\", \"profile_sidebar_border_color\", \"profile_background_tile\", \"profile_sidebar_fill_color\", \"profile_background_image_url\", \"profile_background_color\", \"profile_link_color\", \"utc_offset\", \"protected\", \"verified\", \"dataset\", \"updated\", \"description\"], axis=1)"
   ]
  },
  {
   "cell_type": "code",
   "execution_count": 65,
   "metadata": {
    "scrolled": true
   },
   "outputs": [
    {
     "name": "stdout",
     "output_type": "stream",
     "text": [
      "Final Available Columns\n"
     ]
    },
    {
     "data": {
      "text/plain": [
       "Index(['statuses_count', 'followers_count', 'friends_count',\n",
       "       'favourites_count', 'listed_count', 'url', 'time_zone'],\n",
       "      dtype='object')"
      ]
     },
     "execution_count": 65,
     "metadata": {},
     "output_type": "execute_result"
    }
   ],
   "source": [
    "print(\"Final Available Columns\")\n",
    "data[\"legit\"].columns"
   ]
  },
  {
   "cell_type": "code",
   "execution_count": 66,
   "metadata": {},
   "outputs": [],
   "source": [
    "# Converting DataFrame to Numpy Array\n",
    "data[\"legit\"] = data[\"legit\"].values\n",
    "data[\"fake\"] = data[\"fake\"].values"
   ]
  },
  {
   "cell_type": "code",
   "execution_count": 67,
   "metadata": {},
   "outputs": [],
   "source": [
    "for i in range(len(data[\"legit\"])):\n",
    "    if type(data[\"legit\"][i][5]) == str:\n",
    "        data[\"legit\"][i][5] = 1\n",
    "    \n",
    "    if type(data[\"legit\"][i][6]) == str:\n",
    "        data[\"legit\"][i][6] = 1\n",
    "        \n",
    "for i in range(len(data[\"fake\"])):\n",
    "    if type(data[\"fake\"][i][5]) == str:\n",
    "        data[\"fake\"][i][5] = 1\n",
    "    \n",
    "    if type(data[\"fake\"][i][6]) == str:\n",
    "        data[\"fake\"][i][6] = 1"
   ]
  },
  {
   "cell_type": "code",
   "execution_count": 68,
   "metadata": {},
   "outputs": [],
   "source": [
    "data[\"legit\"] = data[\"legit\"].astype(np.float64)\n",
    "data[\"fake\"] = data[\"fake\"].astype(np.float64)"
   ]
  },
  {
   "cell_type": "code",
   "execution_count": 69,
   "metadata": {},
   "outputs": [],
   "source": [
    "where_nans = np.isnan(data[\"legit\"])\n",
    "data[\"legit\"][where_nans] = 0\n",
    "\n",
    "where_nans = np.isnan(data[\"fake\"])\n",
    "data[\"fake\"][where_nans] = 0"
   ]
  },
  {
   "cell_type": "code",
   "execution_count": 70,
   "metadata": {},
   "outputs": [],
   "source": [
    "X = np.zeros((len(data[\"fake\"]) + len(data[\"legit\"]), 7))\n",
    "Y = np.zeros(len(data[\"fake\"]) + len(data[\"legit\"]))"
   ]
  },
  {
   "cell_type": "code",
   "execution_count": 71,
   "metadata": {},
   "outputs": [],
   "source": [
    "for i in range(len(data[\"legit\"])):\n",
    "    X[i] = data[\"legit\"][i]/max(data[\"legit\"][i])\n",
    "    Y[i] = -1\n",
    "\n",
    "for i in range(len(data[\"fake\"])):\n",
    "    bound = max(data[\"fake\"][i])\n",
    "    if bound == 0:\n",
    "        bound = 1\n",
    "    \n",
    "    X[len(data[\"legit\"])+i] = data[\"fake\"][i]/bound # Normalizing Data [0 <--> 1]\n",
    "    Y[len(data[\"legit\"])+i] = 1"
   ]
  },
  {
   "cell_type": "markdown",
   "metadata": {},
   "source": [
    "# Splitting Dataset into Train and Test"
   ]
  },
  {
   "cell_type": "code",
   "execution_count": 72,
   "metadata": {},
   "outputs": [],
   "source": [
    "X_train, X_test, y_train, y_test = train_test_split( X, Y, \n",
    "    test_size=0.20, random_state=45)"
   ]
  },
  {
   "cell_type": "markdown",
   "metadata": {},
   "source": [
    "# Loading Deep Learning libraries"
   ]
  },
  {
   "cell_type": "code",
   "execution_count": 73,
   "metadata": {},
   "outputs": [],
   "source": [
    "from keras.models import Sequential\n",
    "from keras.optimizers import SGD\n",
    "from keras.layers import Dense, BatchNormalization, Activation, Dropout\n",
    "from keras.callbacks import EarlyStopping, Callback\n",
    "\n",
    "from IPython.display import clear_output"
   ]
  },
  {
   "cell_type": "markdown",
   "metadata": {},
   "source": [
    "## Initializing Early Stopping Callback to prevent training proceed to overfitting."
   ]
  },
  {
   "cell_type": "code",
   "execution_count": 74,
   "metadata": {},
   "outputs": [],
   "source": [
    "early_stopping = EarlyStopping(monitor='val_loss', patience=2)"
   ]
  },
  {
   "cell_type": "markdown",
   "metadata": {},
   "source": [
    "# Creating Accuracy Loss Graph callback"
   ]
  },
  {
   "cell_type": "code",
   "execution_count": 75,
   "metadata": {},
   "outputs": [],
   "source": [
    "class PlotLearning(Callback):\n",
    "    def on_train_begin(self, logs={}):\n",
    "        self.i = 0\n",
    "        self.x = []\n",
    "        self.losses = []\n",
    "        self.val_losses = []\n",
    "        self.acc = []\n",
    "        self.val_acc = []\n",
    "        self.fig = plt.figure()\n",
    "        \n",
    "        self.logs = []\n",
    "        \n",
    "\n",
    "    def on_epoch_end(self, epoch, logs={}):\n",
    "        \n",
    "        self.logs.append(logs)\n",
    "        self.x.append(self.i)\n",
    "        self.losses.append(logs.get('loss'))\n",
    "        self.val_losses.append(logs.get('val_loss'))\n",
    "        self.acc.append(logs.get('acc'))\n",
    "        self.val_acc.append(logs.get('val_acc'))\n",
    "        self.i += 1\n",
    "        f, (ax1, ax2) = plt.subplots(1, 2, sharex=True)\n",
    "        \n",
    "        clear_output(wait=True)\n",
    "        \n",
    "        ax1.set_yscale('Log')\n",
    "        ax1.plot(self.x, self.losses, label=\"loss\")\n",
    "        ax1.plot(self.x, self.val_losses, label=\"val_loss\")\n",
    "        ax1.legend()\n",
    "        \n",
    "        ax2.plot(self.x, self.acc, label=\"accuracy\")\n",
    "        ax2.plot(self.x, self.val_acc, label=\"validation accuracy\")\n",
    "        ax2.legend()\n",
    "        \n",
    "        plt.show();\n",
    "        \n",
    "        \n",
    "plot = PlotLearning()"
   ]
  },
  {
   "cell_type": "markdown",
   "metadata": {},
   "source": [
    "##  Building Predictive Model"
   ]
  },
  {
   "cell_type": "code",
   "execution_count": 76,
   "metadata": {},
   "outputs": [
    {
     "name": "stdout",
     "output_type": "stream",
     "text": [
      "Model: \"sequential_2\"\n",
      "_________________________________________________________________\n",
      " Layer (type)                Output Shape              Param #   \n",
      "=================================================================\n",
      " batch_normalization_6 (Batc  (None, 7)                28        \n",
      " hNormalization)                                                 \n",
      "                                                                 \n",
      " dense_6 (Dense)             (None, 16)                128       \n",
      "                                                                 \n",
      " batch_normalization_7 (Batc  (None, 16)               64        \n",
      " hNormalization)                                                 \n",
      "                                                                 \n",
      " dense_7 (Dense)             (None, 8)                 136       \n",
      "                                                                 \n",
      " batch_normalization_8 (Batc  (None, 8)                32        \n",
      " hNormalization)                                                 \n",
      "                                                                 \n",
      " dense_8 (Dense)             (None, 1)                 9         \n",
      "                                                                 \n",
      "=================================================================\n",
      "Total params: 397\n",
      "Trainable params: 335\n",
      "Non-trainable params: 62\n",
      "_________________________________________________________________\n"
     ]
    }
   ],
   "source": [
    "model = Sequential([\n",
    "    BatchNormalization(),\n",
    "    \n",
    "    Dense(16, activation=\"relu\", kernel_regularizer=\"l2\"),\n",
    "    BatchNormalization(),\n",
    "    Dense(8, activation=\"relu\", kernel_regularizer=\"l2\"),\n",
    "    BatchNormalization(),\n",
    "    Dense(1, activation=\"tanh\"),\n",
    "])\n",
    "\n",
    "model.build((None, X.shape[1]))\n",
    "model.summary()\n",
    "model.compile(\n",
    "    optimizer=\"adamax\",\n",
    "    loss=\"mse\",\n",
    "    metrics=[\"acc\"]\n",
    ")"
   ]
  },
  {
   "cell_type": "markdown",
   "metadata": {},
   "source": [
    "# Iterative Training Process Begins..."
   ]
  },
  {
   "cell_type": "code",
   "execution_count": 77,
   "metadata": {},
   "outputs": [
    {
     "data": {
      "image/png": "[encoded data removed]",
      "text/plain": [
       "<Figure size 432x288 with 2 Axes>"
      ]
     },
     "metadata": {
      "needs_background": "light"
     },
     "output_type": "display_data"
    },
    {
     "name": "stdout",
     "output_type": "stream",
     "text": [
      "\b\b\b\b\b\b\b\b\b\b\b\b\b\b\b\b\b\b\b\b\b\b\b\b\b\b\b\b\b\b\b\b\b\b\b\b\b\b\b\b\b\b\b\b\b\b\b\b\b\b\b\b\b\b\b\b\b\b\b\b\b\b\b\b\b\b\b\b\b\b\b\b\b\b\b\b\b\r",
      "23/23 [==============================] - 1s 41ms/step - loss: 0.0697 - acc: 0.4672 - val_loss: 0.0725 - val_acc: 0.4770\n"
     ]
    },
    {
     "data": {
      "text/plain": [
       "<keras.callbacks.History at 0x23b27f93d90>"
      ]
     },
     "execution_count": 77,
     "metadata": {},
     "output_type": "execute_result"
    }
   ],
   "source": [
    "model.fit(X_train, y_train, epochs=250, validation_data=(X_test, y_test), shuffle=True, batch_size=100, callbacks=[early_stopping, plot])"
   ]
  },
  {
   "cell_type": "code",
   "execution_count": 78,
   "metadata": {},
   "outputs": [
    {
     "name": "stdout",
     "output_type": "stream",
     "text": [
      "18/18 [==============================] - 0s 2ms/step\n"
     ]
    }
   ],
   "source": [
    "logits = model.predict(X_test).T[0]"
   ]
  },
  {
   "cell_type": "code",
   "execution_count": 79,
   "metadata": {},
   "outputs": [
    {
     "name": "stdout",
     "output_type": "stream",
     "text": [
      "18/18 [==============================] - 0s 4ms/step - loss: 0.0725 - acc: 0.4770\n"
     ]
    },
    {
     "data": {
      "text/plain": [
       "[0.0725298821926117, 0.47695034742355347]"
      ]
     },
     "execution_count": 79,
     "metadata": {},
     "output_type": "execute_result"
    }
   ],
   "source": [
    "model.evaluate(X_test, y_test)"
   ]
  },
  {
   "cell_type": "code",
   "execution_count": 80,
   "metadata": {},
   "outputs": [],
   "source": [
    "for i in range(len(logits)):\n",
    "    logits[i] = -1 if logits[i] < 0 else 1"
   ]
  },
  {
   "cell_type": "code",
   "execution_count": 81,
   "metadata": {},
   "outputs": [],
   "source": [
    "import matplotlib.pyplot as plt\n",
    "def plot_confusion_matrix(cm, title='CONFUSION MATRIX', cmap=plt.cm.Reds):\n",
    "    target_names=['Fake','Genuine']\n",
    "    plt.imshow(cm, interpolation='nearest', cmap=cmap)\n",
    "    plt.title(title)\n",
    "    plt.colorbar()\n",
    "    tick_marks = np.arange(len(target_names))\n",
    "    plt.xticks(tick_marks, target_names, rotation=45)\n",
    "    plt.yticks(tick_marks, target_names)\n",
    "    plt.tight_layout()\n",
    "    plt.ylabel('True label')\n",
    "    plt.xlabel('Predicted label')"
   ]
  },
  {
   "cell_type": "code",
   "execution_count": 82,
   "metadata": {},
   "outputs": [
    {
     "name": "stdout",
     "output_type": "stream",
     "text": [
      "[[291   3]\n",
      " [  1 269]]\n"
     ]
    }
   ],
   "source": [
    "mat = confusion_matrix(y_test, logits)\n",
    "print(mat)"
   ]
  },
  {
   "cell_type": "code",
   "execution_count": 83,
   "metadata": {},
   "outputs": [
    {
     "data": {
      "image/png": "[encoded data removed]",
      "text/plain": [
       "<Figure size 432x288 with 2 Axes>"
      ]
     },
     "metadata": {
      "needs_background": "light"
     },
     "output_type": "display_data"
    }
   ],
   "source": [
    "plot_confusion_matrix(mat)"
   ]
  },
  {
   "cell_type": "markdown",
   "metadata": {},
   "source": [
    "# Validation Accuracy"
   ]
  },
  {
   "cell_type": "code",
   "execution_count": 84,
   "metadata": {},
   "outputs": [
    {
     "name": "stdout",
     "output_type": "stream",
     "text": [
      "71/71 [==============================] - 0s 3ms/step - loss: 0.0675 - acc: 0.4689\n",
      "18/18 [==============================] - 0s 4ms/step - loss: 0.0725 - acc: 0.4770\n",
      "Train Accuracy: 0.46894410252571106\n",
      "Validation Accuracy: 0.47695034742355347\n"
     ]
    }
   ],
   "source": [
    "_, train_acc = model.evaluate(X_train, y_train)\n",
    "_, val_acc = model.evaluate(X_test, y_test)\n",
    "print(\"Train Accuracy:\", train_acc)\n",
    "print(\"Validation Accuracy:\", val_acc)"
   ]
  },
  {
   "cell_type": "code",
   "execution_count": 127,
   "metadata": {},
   "outputs": [],
   "source": [
    "from sklearn.ensemble import AdaBoostClassifier\n",
    "classifier = AdaBoostClassifier(n_estimators=50,learning_rate=0.6)\n",
    "model = classifier.fit(X_train, y_train)\n",
    "y_pred = model.predict(X_test)"
   ]
  },
  {
   "cell_type": "code",
   "execution_count": 128,
   "metadata": {},
   "outputs": [
    {
     "data": {
      "text/plain": [
       "array([-1., -1.,  1., -1.,  1.,  1., -1.,  1., -1., -1.,  1., -1., -1.,\n",
       "       -1., -1., -1.,  1., -1.,  1., -1.,  1., -1., -1., -1., -1., -1.,\n",
       "       -1., -1.,  1., -1.,  1.,  1.,  1., -1.,  1.,  1.,  1., -1.,  1.,\n",
       "       -1.,  1.,  1., -1.,  1.,  1.,  1., -1.,  1.,  1.,  1.,  1., -1.,\n",
       "        1., -1.,  1.,  1.,  1., -1., -1.,  1., -1., -1., -1., -1., -1.,\n",
       "        1.,  1.,  1., -1., -1.,  1.,  1., -1.,  1.,  1.,  1.,  1., -1.,\n",
       "       -1.,  1.,  1.,  1., -1., -1., -1.,  1.,  1., -1.,  1., -1.,  1.,\n",
       "        1., -1.,  1., -1., -1., -1., -1., -1., -1.,  1.,  1., -1., -1.,\n",
       "       -1., -1., -1., -1., -1., -1.,  1.,  1.,  1., -1.,  1.,  1.,  1.,\n",
       "        1.,  1., -1., -1.,  1.,  1., -1., -1.,  1., -1.,  1., -1., -1.,\n",
       "       -1., -1., -1., -1., -1., -1., -1.,  1.,  1., -1., -1., -1.,  1.,\n",
       "        1., -1., -1., -1.,  1.,  1., -1.,  1.,  1., -1., -1.,  1., -1.,\n",
       "       -1., -1., -1.,  1.,  1., -1.,  1., -1., -1., -1., -1., -1.,  1.,\n",
       "        1.,  1., -1.,  1.,  1.,  1.,  1., -1., -1.,  1.,  1., -1.,  1.,\n",
       "        1.,  1.,  1., -1.,  1., -1., -1.,  1.,  1., -1., -1., -1.,  1.,\n",
       "       -1., -1.,  1.,  1.,  1., -1., -1.,  1.,  1.,  1.,  1., -1., -1.,\n",
       "        1., -1., -1., -1., -1., -1., -1., -1., -1.,  1., -1., -1.,  1.,\n",
       "       -1.,  1.,  1.,  1.,  1., -1.,  1., -1., -1., -1.,  1., -1., -1.,\n",
       "       -1., -1.,  1.,  1., -1.,  1., -1.,  1.,  1.,  1., -1., -1.,  1.,\n",
       "       -1.,  1.,  1.,  1., -1.,  1.,  1., -1., -1., -1.,  1., -1., -1.,\n",
       "        1., -1.,  1., -1., -1.,  1.,  1., -1.,  1.,  1., -1.,  1., -1.,\n",
       "       -1.,  1., -1., -1., -1., -1.,  1.,  1.,  1.,  1.,  1., -1.,  1.,\n",
       "       -1.,  1.,  1.,  1., -1., -1.,  1.,  1., -1.,  1., -1., -1.,  1.,\n",
       "       -1.,  1., -1., -1., -1.,  1., -1., -1., -1.,  1., -1.,  1., -1.,\n",
       "        1.,  1., -1.,  1.,  1., -1., -1., -1.,  1.,  1.,  1., -1.,  1.,\n",
       "       -1., -1.,  1.,  1.,  1., -1.,  1., -1.,  1.,  1.,  1.,  1., -1.,\n",
       "        1., -1.,  1.,  1.,  1.,  1., -1.,  1., -1., -1.,  1.,  1., -1.,\n",
       "        1., -1.,  1., -1., -1., -1., -1.,  1.,  1.,  1., -1., -1., -1.,\n",
       "       -1.,  1.,  1.,  1., -1.,  1., -1., -1.,  1., -1., -1., -1., -1.,\n",
       "        1., -1.,  1., -1.,  1.,  1., -1., -1.,  1.,  1.,  1.,  1., -1.,\n",
       "        1., -1., -1., -1., -1.,  1., -1.,  1.,  1., -1.,  1.,  1., -1.,\n",
       "       -1., -1.,  1.,  1.,  1., -1., -1., -1.,  1.,  1.,  1.,  1.,  1.,\n",
       "        1.,  1.,  1., -1., -1.,  1., -1.,  1.,  1., -1., -1., -1., -1.,\n",
       "       -1.,  1.,  1.,  1., -1., -1.,  1.,  1.,  1.,  1.,  1.,  1., -1.,\n",
       "       -1.,  1., -1.,  1., -1.,  1.,  1., -1., -1., -1.,  1., -1., -1.,\n",
       "        1.,  1.,  1.,  1., -1., -1.,  1., -1.,  1., -1., -1.,  1.,  1.,\n",
       "       -1.,  1.,  1., -1.,  1.,  1., -1., -1.,  1., -1., -1., -1.,  1.,\n",
       "        1., -1., -1., -1., -1., -1.,  1., -1.,  1., -1.,  1., -1.,  1.,\n",
       "        1.,  1.,  1.,  1., -1.,  1., -1., -1.,  1., -1., -1.,  1., -1.,\n",
       "       -1., -1.,  1., -1., -1.,  1., -1., -1.,  1.,  1.,  1., -1.,  1.,\n",
       "       -1., -1.,  1., -1.,  1.,  1., -1., -1.,  1.,  1.,  1., -1.,  1.,\n",
       "       -1.,  1., -1., -1., -1.,  1., -1.,  1., -1., -1.,  1., -1.,  1.,\n",
       "       -1., -1.,  1., -1., -1., -1., -1.,  1.,  1., -1., -1., -1.,  1.,\n",
       "       -1., -1.,  1.,  1.,  1.])"
      ]
     },
     "execution_count": 128,
     "metadata": {},
     "output_type": "execute_result"
    }
   ],
   "source": [
    "y_pred"
   ]
  },
  {
   "cell_type": "code",
   "execution_count": 129,
   "metadata": {
    "scrolled": true
   },
   "outputs": [
    {
     "data": {
      "text/html": [
       "<div>\n",
       "<style scoped>\n",
       "    .dataframe tbody tr th:only-of-type {\n",
       "        vertical-align: middle;\n",
       "    }\n",
       "\n",
       "    .dataframe tbody tr th {\n",
       "        vertical-align: top;\n",
       "    }\n",
       "\n",
       "    .dataframe thead th {\n",
       "        text-align: right;\n",
       "    }\n",
       "</style>\n",
       "<table border=\"1\" class=\"dataframe\">\n",
       "  <thead>\n",
       "    <tr style=\"text-align: right;\">\n",
       "      <th></th>\n",
       "      <th>model Test Accuracy</th>\n",
       "      <th>model Precission</th>\n",
       "      <th>model Recall</th>\n",
       "      <th>model f1_score</th>\n",
       "    </tr>\n",
       "  </thead>\n",
       "  <tbody>\n",
       "    <tr>\n",
       "      <th>0</th>\n",
       "      <td>0.9805</td>\n",
       "      <td>0.967509</td>\n",
       "      <td>0.992593</td>\n",
       "      <td>0.97989</td>\n",
       "    </tr>\n",
       "  </tbody>\n",
       "</table>\n",
       "</div>"
      ],
      "text/plain": [
       "   model Test Accuracy  model Precission  model Recall  model f1_score\n",
       "0               0.9805          0.967509      0.992593         0.97989"
      ]
     },
     "execution_count": 129,
     "metadata": {},
     "output_type": "execute_result"
    }
   ],
   "source": [
    "from sklearn.metrics import precision_score,recall_score,f1_score\n",
    "from sklearn import metrics\n",
    "model_columns = []\n",
    "model_compare = pd.DataFrame(columns = model_columns)\n",
    "\n",
    "row_index = 0\n",
    "for alg in model: \n",
    "    predicted = alg.fit(X_train, y_train).predict(X_test)\n",
    "    model_compare.loc[row_index, 'model Test Accuracy'] = round(alg.score(X_test, y_test), 4)\n",
    "    model_compare.loc[row_index, 'model Precission'] = precision_score(y_test, predicted)\n",
    "    model_compare.loc[row_index, 'model Recall'] = recall_score(y_test, predicted)\n",
    "    model_compare.loc[row_index, 'model f1_score'] = f1_score(y_test, predicted)\n",
    "\n",
    "model_compare.sort_values(by = ['model Test Accuracy'], ascending = False, inplace = True)    \n",
    "model_compare"
   ]
  },
  {
   "cell_type": "code",
   "execution_count": 130,
   "metadata": {
    "scrolled": false
   },
   "outputs": [
    {
     "data": {
      "image/png": "[encoded data removed]",
      "text/plain": [
       "<Figure size 504x504 with 1 Axes>"
      ]
     },
     "metadata": {
      "needs_background": "light"
     },
     "output_type": "display_data"
    }
   ],
   "source": [
    "import seaborn as sns\n",
    "\n",
    "plt.subplots(figsize=(7,7))\n",
    "sns.barplot(data=model_compare,palette='hot',edgecolor=sns.color_palette('OrRd',9))\n",
    "data=[]\n",
    "data.append(round(alg.score(X_test, y_test), 4))\n",
    "data.append(precision_score(y_test, predicted))\n",
    "data.append(recall_score(y_test, predicted))\n",
    "data.append(f1_score(y_test, predicted))\n",
    "label=['model Test Accuracy',\"Precision score\",\"recall Score\",\"f1 Score\"]\n",
    "plt.xticks(rotation=90)\n",
    "plt.ylim([0.9,1])\n",
    "plt.title('model Recall Comparison')\n",
    "plt.show()"
   ]
  },
  {
   "cell_type": "code",
   "execution_count": 131,
   "metadata": {},
   "outputs": [
    {
     "name": "stdout",
     "output_type": "stream",
     "text": [
      "Accuracy: 99.29%\n"
     ]
    }
   ],
   "source": [
    "from sklearn.metrics import accuracy_score\n",
    "accuracy = accuracy_score(y_test, y_pred)\n",
    "y=accuracy\n",
    "print(\"Accuracy: %.2f%%\" % (accuracy * 100.0))"
   ]
  },
  {
   "cell_type": "code",
   "execution_count": 132,
   "metadata": {},
   "outputs": [
    {
     "name": "stdout",
     "output_type": "stream",
     "text": [
      "Accuracy: 99.50%\n"
     ]
    }
   ],
   "source": [
    "ada=AdaBoostClassifier(n_estimators=100,learning_rate=0.6)\n",
    "ada.fit(X_train,y_train)\n",
    "ada_pred=ada.predict(X_test)\n",
    "acc_ada=round(accuracy_score(y_test,ada_pred),3)\n",
    "print(\"Accuracy: %.2f%%\" % (acc_ada * 100.0))"
   ]
  },
  {
   "cell_type": "code",
   "execution_count": 91,
   "metadata": {},
   "outputs": [
    {
     "name": "stderr",
     "output_type": "stream",
     "text": [
      "C:\\Users\\DIVYA PRAJAPATI\\anaconda3\\lib\\site-packages\\seaborn\\_decorators.py:36: FutureWarning: Pass the following variables as keyword args: x, y. From version 0.12, the only valid positional argument will be `data`, and passing other arguments without an explicit keyword will result in an error or misinterpretation.\n",
      "  warnings.warn(\n"
     ]
    },
    {
     "data": {
      "image/png": "[encoded data removed]",
      "text/plain": [
       "<Figure size 648x648 with 1 Axes>"
      ]
     },
     "metadata": {
      "needs_background": "light"
     },
     "output_type": "display_data"
    }
   ],
   "source": [
    "plt.subplots(figsize=(9,9))\n",
    "data=[]\n",
    "data.append(train_acc)\n",
    "data.append(acc_ada)\n",
    "label=['Sequential','ADA BOOST']\n",
    "sns.barplot(label,data,palette='hot',edgecolor=sns.color_palette('dark',7))\n",
    "plt.xticks(rotation=90)\n",
    "plt.ylim([0,1])\n",
    "plt.title('model Acurracy Comparison')\n",
    "plt.show()"
   ]
  },
  {
   "cell_type": "code",
   "execution_count": 142,
   "metadata": {},
   "outputs": [],
   "source": [
    "model1=AdaBoostClassifier().fit(X_train,y_train)"
   ]
  },
  {
   "cell_type": "code",
   "execution_count": 145,
   "metadata": {},
   "outputs": [],
   "source": [
    "import tkinter as tk\n",
    "from tkinter import *\n",
    "\n",
    "def values():\n",
    "    global status\n",
    "    status=float(statusentry.get())\n",
    "    global followers\n",
    "    followers=float(Followersentry.get())\n",
    "    global friends\n",
    "    friends=float(Friendsentry.get())\n",
    "    global favourites\n",
    "    favourites=float(Favouritesentry.get())\n",
    "    global listed\n",
    "    listed=float(Listedentry.get())\n",
    "    global url\n",
    "    url=float(URLentry.get())\n",
    "    global timezone\n",
    "    timezone=float(Timezoneentry.get())\n",
    "    \n",
    "    result=model1.predict([[status,followers,friends,favourites,listed,url,timezone]])\n",
    "    if result==-1:\n",
    "        output=\"Real\"\n",
    "    else:\n",
    "        output=\"Fake\"\n",
    "    outcomeentry.delete(-1,END)    \n",
    "    outcomeentry.insert(-1,str(output))\n",
    "\n",
    "    "
   ]
  },
  {
   "cell_type": "code",
   "execution_count": 146,
   "metadata": {},
   "outputs": [],
   "source": [
    "root=tk.Tk()\n",
    "root.title(\"Detection\")\n",
    "\n",
    "title=Label(root,text=\"Check Profile\",bg=\"red\",fg=\"yellow\",font=('Arial Black',32),padx=20,pady=20)\n",
    "title.grid(row=0,column=4)\n",
    "\n",
    "status=Label(root,text=\"Status\",font=('Arial Black',18))\n",
    "status.grid(row=3,column=1)\n",
    "statusentry=tk.Entry(root)\n",
    "statusentry.grid(row=3,column=2,padx=30,pady=30)\n",
    "\n",
    "followers_count=Label(root,text=\"Followers\",font=('Arial Black',18))\n",
    "followers_count.grid(row=4,column=1)\n",
    "Followersentry=tk.Entry(root)\n",
    "Followersentry.grid(row=4,column=2,padx=30,pady=30)\n",
    "\n",
    "friends_count=Label(root,text=\"Friends\",font=('Arial Black',18))\n",
    "friends_count.grid(row=5,column=1)\n",
    "Friendsentry=tk.Entry(root)\n",
    "Friendsentry.grid(row=5,column=2,padx=30,pady=30)\n",
    "\n",
    "favourites_count=Label(root,text=\"Favourite\",font=('Arial Black',18))\n",
    "favourites_count.grid(row=6,column=1)\n",
    "Favouritesentry=tk.Entry(root)\n",
    "Favouritesentry.grid(row=6,column=2,padx=30,pady=30)\n",
    "\n",
    "listed_count=Label(root,text=\"Listed\",font=('Arial Black',18))\n",
    "listed_count.grid(row=7,column=1)\n",
    "Listedentry=tk.Entry(root)\n",
    "Listedentry.grid(row=7,column=2,padx=30,pady=30)\n",
    "\n",
    "\n",
    "url=Label(root,text=\"URL\",font=('Arial Black',18))\n",
    "url.grid(row=8,column=1)\n",
    "URLentry=tk.Entry(root)\n",
    "URLentry.grid(row=8,column=2,padx=30,pady=30)\n",
    "\n",
    "\n",
    "time_zone=Label(root,text=\"Time Zone\",font=('Arial Black',18))\n",
    "time_zone.grid(row=9,column=1)\n",
    "Timezoneentry=tk.Entry(root)\n",
    "Timezoneentry.grid(row=9,column=2,padx=30,pady=30)\n",
    "\n",
    "\n",
    "outcome=Label(root,text=\"outcome\",font=('Arial Black',18))\n",
    "outcome.grid(row=7,column=4)\n",
    "outcomeentry=tk.Entry(root)\n",
    "outcomeentry.grid(row=7,column=5)\n",
    "\n",
    "button=tk.Button(root,text=\"calculate\",command=values,bg=\"orange\",fg=\"black\",font=('Arial Black',20))\n",
    "button.grid(row=6,column=4)\n",
    "\n",
    "root.mainloop()"
   ]
  },
  {
   "cell_type": "code",
   "execution_count": null,
   "metadata": {},
   "outputs": [],
   "source": []
  }
 ],
 "metadata": {
  "kernelspec": {
   "display_name": "Python 3 (ipykernel)",
   "language": "python",
   "name": "python3"
  },
  "language_info": {
   "codemirror_mode": {
    "name": "ipython",
    "version": 3
   },
   "file_extension": ".py",
   "mimetype": "text/x-python",
   "name": "python",
   "nbconvert_exporter": "python",
   "pygments_lexer": "ipython3",
   "version": "3.9.12"
  }
 },
 "nbformat": 4,
 "nbformat_minor": 2
}
